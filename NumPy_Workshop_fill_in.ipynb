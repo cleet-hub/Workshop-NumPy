{
  "nbformat": 4,
  "nbformat_minor": 0,
  "metadata": {
    "kernelspec": {
      "display_name": "Python 3",
      "language": "python",
      "name": "python3"
    },
    "language_info": {
      "codemirror_mode": {
        "name": "ipython",
        "version": 3
      },
      "file_extension": ".py",
      "mimetype": "text/x-python",
      "name": "python",
      "nbconvert_exporter": "python",
      "pygments_lexer": "ipython3",
      "version": "3.7.3"
    },
    "colab": {
      "name": "NumPy_Workshop.ipynb",
      "provenance": [],
      "include_colab_link": true
    }
  },
  "cells": [
    {
      "cell_type": "markdown",
      "metadata": {
        "id": "view-in-github",
        "colab_type": "text"
      },
      "source": [
        "<a href=\"https://colab.research.google.com/github/greght/Workshop-NumPy/blob/master/NumPy_Workshop_fill_in.ipynb\" target=\"_parent\"><img src=\"https://colab.research.google.com/assets/colab-badge.svg\" alt=\"Open In Colab\"/></a>"
      ]
    },
    {
      "cell_type": "markdown",
      "metadata": {
        "id": "lHpGvGVlbkSf",
        "colab_type": "text"
      },
      "source": [
        "# Intro to NumPy\n",
        "\n",
        "## Greg Teichert\n",
        "### Consulting for Statistics, Computation, and Analytics Research (CSCAR)"
      ]
    },
    {
      "cell_type": "markdown",
      "metadata": {
        "id": "RoVyznnubkSg",
        "colab_type": "text"
      },
      "source": [
        "## NumPy\n",
        "- is a Python package developed for scientific computing,\n",
        "- is built largely around an n-dimensional array (ndarray) object\n",
        "- includes various other capabilities, including linear algebra and random number generation. (see numpy.org)"
      ]
    },
    {
      "cell_type": "markdown",
      "metadata": {
        "id": "AAA7hxbRbkSi",
        "colab_type": "text"
      },
      "source": [
        "### Resources\n",
        "This workshop is based in part on the following:\n",
        "- https://docs.scipy.org/doc/numpy/user/index.html (NumPy User Guide: Quickstart Tutorial, and NumPy Basics)\n",
        "- https://github.com/kshedden/numpy_workshop (Previous NumPy workshop materials, by Kerby Shedden)"
      ]
    },
    {
      "cell_type": "markdown",
      "metadata": {
        "id": "Buc2FHymbkSi",
        "colab_type": "text"
      },
      "source": [
        "To get started, import the NumPy package."
      ]
    },
    {
      "cell_type": "code",
      "metadata": {
        "id": "2lzCMUT6bkSj",
        "colab_type": "code",
        "colab": {}
      },
      "source": [
        ""
      ],
      "execution_count": null,
      "outputs": []
    },
    {
      "cell_type": "markdown",
      "metadata": {
        "id": "jUD8whybbkSn",
        "colab_type": "text"
      },
      "source": [
        "## Data types"
      ]
    },
    {
      "cell_type": "markdown",
      "metadata": {
        "id": "AT-McmGIbkSn",
        "colab_type": "text"
      },
      "source": [
        "- NumPy has multiple data types.\n",
        "- In some cases, the number of bits (e.g. 16, 32, 64) can be specified.\n",
        "- An underscore represents the default size.\n",
        "For example:"
      ]
    },
    {
      "cell_type": "code",
      "metadata": {
        "id": "dofQqG1XbkSo",
        "colab_type": "code",
        "colab": {}
      },
      "source": [
        ""
      ],
      "execution_count": null,
      "outputs": []
    },
    {
      "cell_type": "code",
      "metadata": {
        "id": "jDMQpbAxbkSr",
        "colab_type": "code",
        "colab": {}
      },
      "source": [
        ""
      ],
      "execution_count": null,
      "outputs": []
    },
    {
      "cell_type": "code",
      "metadata": {
        "id": "j5gVK3xsbkSu",
        "colab_type": "code",
        "colab": {}
      },
      "source": [
        ""
      ],
      "execution_count": null,
      "outputs": []
    },
    {
      "cell_type": "markdown",
      "metadata": {
        "id": "UY89EpABbkSx",
        "colab_type": "text"
      },
      "source": [
        "## Array creation"
      ]
    },
    {
      "cell_type": "markdown",
      "metadata": {
        "id": "IqQFEBn7bkSy",
        "colab_type": "text"
      },
      "source": [
        "Create ndarray of zeros. Input is a tuple defining the shape."
      ]
    },
    {
      "cell_type": "code",
      "metadata": {
        "scrolled": true,
        "id": "3ZldHXqAbkSy",
        "colab_type": "code",
        "colab": {}
      },
      "source": [
        ""
      ],
      "execution_count": null,
      "outputs": []
    },
    {
      "cell_type": "markdown",
      "metadata": {
        "id": "p2MnjaVwbkS1",
        "colab_type": "text"
      },
      "source": [
        "Create ndarray from Python lists. You can specify the number type (default is `np.float64`)."
      ]
    },
    {
      "cell_type": "code",
      "metadata": {
        "scrolled": true,
        "id": "LgOqnGhgbkS1",
        "colab_type": "code",
        "colab": {}
      },
      "source": [
        ""
      ],
      "execution_count": null,
      "outputs": []
    },
    {
      "cell_type": "code",
      "metadata": {
        "scrolled": true,
        "id": "E-yHmh-0bkS5",
        "colab_type": "code",
        "colab": {}
      },
      "source": [
        "np.array([[1.,2.,3.],[4.,5.,6.]])"
      ],
      "execution_count": null,
      "outputs": []
    },
    {
      "cell_type": "code",
      "metadata": {
        "id": "hghmetf2bkS8",
        "colab_type": "code",
        "colab": {}
      },
      "source": [
        "np.array([[[1.,2.],[3.,4.]],[[5.,6.],[7.,8.]]],dtype=np.float_)"
      ],
      "execution_count": null,
      "outputs": []
    },
    {
      "cell_type": "markdown",
      "metadata": {
        "id": "Mbx1l6KabkS-",
        "colab_type": "text"
      },
      "source": [
        "Use the `np.arange` function to create a ndarray with a given start, end, and stride:"
      ]
    },
    {
      "cell_type": "code",
      "metadata": {
        "id": "91QsT0TZbkS-",
        "colab_type": "code",
        "colab": {}
      },
      "source": [
        ""
      ],
      "execution_count": null,
      "outputs": []
    },
    {
      "cell_type": "markdown",
      "metadata": {
        "id": "1-gov7KgbkTB",
        "colab_type": "text"
      },
      "source": [
        "Create a ndarray of random numbers. We'll look more at NumPy's random number capabilities later."
      ]
    },
    {
      "cell_type": "code",
      "metadata": {
        "id": "mio2u9p8bkTB",
        "colab_type": "code",
        "colab": {}
      },
      "source": [
        ""
      ],
      "execution_count": null,
      "outputs": []
    },
    {
      "cell_type": "markdown",
      "metadata": {
        "id": "NA6LmpE_bkTE",
        "colab_type": "text"
      },
      "source": [
        "### Exercise\n",
        "\n",
        "Create a 1D array starting at 10 and going backwards by 0.5 until 2.5 (inclusive)."
      ]
    },
    {
      "cell_type": "code",
      "metadata": {
        "id": "CEzLF9-7bkTF",
        "colab_type": "code",
        "colab": {}
      },
      "source": [
        ""
      ],
      "execution_count": null,
      "outputs": []
    },
    {
      "cell_type": "markdown",
      "metadata": {
        "id": "NxZ92vDDbkTI",
        "colab_type": "text"
      },
      "source": [
        "## Input/Output"
      ]
    },
    {
      "cell_type": "markdown",
      "metadata": {
        "id": "LCbmU5_LbkTI",
        "colab_type": "text"
      },
      "source": [
        "Save a ndarray to a file:"
      ]
    },
    {
      "cell_type": "code",
      "metadata": {
        "scrolled": true,
        "id": "OKQD2Tp3bkTJ",
        "colab_type": "code",
        "colab": {}
      },
      "source": [
        "a = np.random.rand(4,4)\n",
        "print(a)"
      ],
      "execution_count": null,
      "outputs": []
    },
    {
      "cell_type": "markdown",
      "metadata": {
        "id": "uTfBWRVnbkTL",
        "colab_type": "text"
      },
      "source": [
        "Load the file to a ndarray:"
      ]
    },
    {
      "cell_type": "code",
      "metadata": {
        "id": "VcW33-ctbkTM",
        "colab_type": "code",
        "colab": {}
      },
      "source": [
        ""
      ],
      "execution_count": null,
      "outputs": []
    },
    {
      "cell_type": "markdown",
      "metadata": {
        "id": "z4wSoZlibkTO",
        "colab_type": "text"
      },
      "source": [
        "### Exercise"
      ]
    },
    {
      "cell_type": "markdown",
      "metadata": {
        "id": "oOzWBlycbkTP",
        "colab_type": "text"
      },
      "source": [
        "Create a 2 x 3 array of ones. Save it to a file named 'ones.txt', with integer format and separated by single spaces."
      ]
    },
    {
      "cell_type": "code",
      "metadata": {
        "id": "j9bKaAt-bkTP",
        "colab_type": "code",
        "colab": {}
      },
      "source": [
        ""
      ],
      "execution_count": null,
      "outputs": []
    },
    {
      "cell_type": "code",
      "metadata": {
        "id": "Yt021FT9bkTS",
        "colab_type": "code",
        "colab": {}
      },
      "source": [
        ""
      ],
      "execution_count": null,
      "outputs": []
    },
    {
      "cell_type": "markdown",
      "metadata": {
        "id": "P8BEyzjZbkTU",
        "colab_type": "text"
      },
      "source": [
        "## Indexing/Slicing"
      ]
    },
    {
      "cell_type": "markdown",
      "metadata": {
        "id": "v57POxOpbkTV",
        "colab_type": "text"
      },
      "source": [
        "One nice feature of NumPy arrays is the versatility in accessing their components."
      ]
    },
    {
      "cell_type": "markdown",
      "metadata": {
        "id": "ZfQZ8wHmbkTV",
        "colab_type": "text"
      },
      "source": [
        "### Indexing"
      ]
    },
    {
      "cell_type": "code",
      "metadata": {
        "id": "VJYQX-vsbkTW",
        "colab_type": "code",
        "colab": {}
      },
      "source": [
        "b = np.array([[1.,2.,3.],[4.,5.,6.],[7.,8.,9.]])\n",
        "print(b)"
      ],
      "execution_count": null,
      "outputs": []
    },
    {
      "cell_type": "markdown",
      "metadata": {
        "id": "_X5FpKEdbkTY",
        "colab_type": "text"
      },
      "source": [
        "Array elements and subdimensional arrays can be accessed with square brackets:"
      ]
    },
    {
      "cell_type": "code",
      "metadata": {
        "id": "p96xQ955bkTY",
        "colab_type": "code",
        "colab": {}
      },
      "source": [
        ""
      ],
      "execution_count": null,
      "outputs": []
    },
    {
      "cell_type": "code",
      "metadata": {
        "id": "nbmjTWKDbkTa",
        "colab_type": "code",
        "colab": {}
      },
      "source": [
        ""
      ],
      "execution_count": null,
      "outputs": []
    },
    {
      "cell_type": "markdown",
      "metadata": {
        "id": "X01Wu08rbkTc",
        "colab_type": "text"
      },
      "source": [
        "It's actually more efficient to use the following syntax for multiple indices:"
      ]
    },
    {
      "cell_type": "code",
      "metadata": {
        "id": "WyuCWZV3bkTc",
        "colab_type": "code",
        "colab": {}
      },
      "source": [
        ""
      ],
      "execution_count": null,
      "outputs": []
    },
    {
      "cell_type": "code",
      "metadata": {
        "scrolled": true,
        "id": "btAYIEvRbkTf",
        "colab_type": "code",
        "colab": {}
      },
      "source": [
        "print(b)"
      ],
      "execution_count": null,
      "outputs": []
    },
    {
      "cell_type": "markdown",
      "metadata": {
        "id": "VG0ijxNsbkTh",
        "colab_type": "text"
      },
      "source": [
        "Lists of indices can also be used:"
      ]
    },
    {
      "cell_type": "code",
      "metadata": {
        "id": "bgOc7rR5bkTh",
        "colab_type": "code",
        "colab": {}
      },
      "source": [
        ""
      ],
      "execution_count": null,
      "outputs": []
    },
    {
      "cell_type": "code",
      "metadata": {
        "id": "BlYTiZSfbkTk",
        "colab_type": "code",
        "colab": {}
      },
      "source": [
        ""
      ],
      "execution_count": null,
      "outputs": []
    },
    {
      "cell_type": "markdown",
      "metadata": {
        "id": "zglia5LHbkTm",
        "colab_type": "text"
      },
      "source": [
        "A list or array of booleans can also be used:"
      ]
    },
    {
      "cell_type": "code",
      "metadata": {
        "id": "C3wOyWTabkTm",
        "colab_type": "code",
        "colab": {}
      },
      "source": [
        "c = np.arange(0,.6,.1)\n",
        "print(c)"
      ],
      "execution_count": null,
      "outputs": []
    },
    {
      "cell_type": "code",
      "metadata": {
        "id": "U2cHIEXcbkTo",
        "colab_type": "code",
        "colab": {}
      },
      "source": [
        ""
      ],
      "execution_count": null,
      "outputs": []
    },
    {
      "cell_type": "markdown",
      "metadata": {
        "id": "LRaHrFm6bkTq",
        "colab_type": "text"
      },
      "source": [
        "### Slicing"
      ]
    },
    {
      "cell_type": "code",
      "metadata": {
        "scrolled": true,
        "id": "-Oked_aRbkTq",
        "colab_type": "code",
        "colab": {}
      },
      "source": [
        "print(b)"
      ],
      "execution_count": null,
      "outputs": []
    },
    {
      "cell_type": "markdown",
      "metadata": {
        "id": "j0bHEhIWbkTv",
        "colab_type": "text"
      },
      "source": [
        "The colon (:) is used to specify slicing and striding."
      ]
    },
    {
      "cell_type": "markdown",
      "metadata": {
        "id": "vCnPwAk5bkTv",
        "colab_type": "text"
      },
      "source": [
        "Initial and final indices can be given (the final index is not inclusive)."
      ]
    },
    {
      "cell_type": "code",
      "metadata": {
        "id": "NzSGJBSCbkTv",
        "colab_type": "code",
        "colab": {}
      },
      "source": [
        ""
      ],
      "execution_count": null,
      "outputs": []
    },
    {
      "cell_type": "code",
      "metadata": {
        "scrolled": true,
        "id": "9pgNm3T6bkTx",
        "colab_type": "code",
        "colab": {}
      },
      "source": [
        "print(b)"
      ],
      "execution_count": null,
      "outputs": []
    },
    {
      "cell_type": "markdown",
      "metadata": {
        "id": "nfYteBEwbkTz",
        "colab_type": "text"
      },
      "source": [
        "The initial index can be dropped to start at the beginning.\n",
        "The final index can be dropped to go to the end."
      ]
    },
    {
      "cell_type": "code",
      "metadata": {
        "id": "pLF9TkvrbkT0",
        "colab_type": "code",
        "colab": {}
      },
      "source": [
        ""
      ],
      "execution_count": null,
      "outputs": []
    },
    {
      "cell_type": "markdown",
      "metadata": {
        "id": "78H58zDrbkT2",
        "colab_type": "text"
      },
      "source": [
        "If both indices are dropped, all elements along that axis are taken:"
      ]
    },
    {
      "cell_type": "code",
      "metadata": {
        "id": "GsZVfLMtbkT2",
        "colab_type": "code",
        "colab": {}
      },
      "source": [
        ""
      ],
      "execution_count": null,
      "outputs": []
    },
    {
      "cell_type": "markdown",
      "metadata": {
        "id": "Jb7GGYSjbkT6",
        "colab_type": "text"
      },
      "source": [
        "A second colon can be used to define a stride:"
      ]
    },
    {
      "cell_type": "code",
      "metadata": {
        "id": "BPeCj3fBbkT6",
        "colab_type": "code",
        "colab": {}
      },
      "source": [
        "c = np.arange(0,1,.1)\n",
        "print(c)"
      ],
      "execution_count": null,
      "outputs": []
    },
    {
      "cell_type": "code",
      "metadata": {
        "id": "HVDxAHKTbkT8",
        "colab_type": "code",
        "colab": {}
      },
      "source": [
        ""
      ],
      "execution_count": null,
      "outputs": []
    },
    {
      "cell_type": "markdown",
      "metadata": {
        "id": "VlkGS_KIbkT-",
        "colab_type": "text"
      },
      "source": [
        "### Exercise"
      ]
    },
    {
      "cell_type": "markdown",
      "metadata": {
        "id": "RVdRJhYYbkT_",
        "colab_type": "raw"
      },
      "source": [
        "Create a 5 x 5 array of zeros. Replace the 2nd and 4th rows and columns with 1's."
      ]
    },
    {
      "cell_type": "code",
      "metadata": {
        "id": "0wgrQdugbkT_",
        "colab_type": "code",
        "colab": {}
      },
      "source": [
        ""
      ],
      "execution_count": null,
      "outputs": []
    },
    {
      "cell_type": "markdown",
      "metadata": {
        "id": "P3NADUbpbkUB",
        "colab_type": "text"
      },
      "source": [
        "## Copies and views"
      ]
    },
    {
      "cell_type": "markdown",
      "metadata": {
        "id": "_cw7z5UibkUB",
        "colab_type": "text"
      },
      "source": [
        "When assigning data to a ndarray from a previous ndarray, three things can happen:\n",
        "- No copy is made\n",
        "- A shallow copy (a \"view\") is made\n",
        "- A deep copy is made"
      ]
    },
    {
      "cell_type": "markdown",
      "metadata": {
        "id": "LEQUNHUkbkUC",
        "colab_type": "text"
      },
      "source": [
        "- A simple assignment from one ndarray to another results in no copy being made.\n",
        "- The original ndarray is simple given an additional name."
      ]
    },
    {
      "cell_type": "code",
      "metadata": {
        "id": "snVywP1lbkUC",
        "colab_type": "code",
        "colab": {}
      },
      "source": [
        "a = np.random.rand(2,4)"
      ],
      "execution_count": null,
      "outputs": []
    },
    {
      "cell_type": "markdown",
      "metadata": {
        "id": "uCbhVYwgbkUE",
        "colab_type": "text"
      },
      "source": [
        "- Changes can be made using either name:"
      ]
    },
    {
      "cell_type": "code",
      "metadata": {
        "id": "BTmA_t8kbkUE",
        "colab_type": "code",
        "colab": {}
      },
      "source": [
        "print(a)"
      ],
      "execution_count": null,
      "outputs": []
    },
    {
      "cell_type": "code",
      "metadata": {
        "id": "ZzAvE7aKbkUH",
        "colab_type": "code",
        "colab": {}
      },
      "source": [
        ""
      ],
      "execution_count": null,
      "outputs": []
    },
    {
      "cell_type": "markdown",
      "metadata": {
        "id": "2CUyxSVrbkUL",
        "colab_type": "text"
      },
      "source": [
        "- A shallow copy or \"view\" creates a new ndarray.\n",
        "- Data is still shared with the original array.\n",
        "- A view can be explicity created using the `view()` method."
      ]
    },
    {
      "cell_type": "code",
      "metadata": {
        "id": "LOrz-LHdbkUN",
        "colab_type": "code",
        "colab": {}
      },
      "source": [
        ""
      ],
      "execution_count": null,
      "outputs": []
    },
    {
      "cell_type": "code",
      "metadata": {
        "id": "B3kcYzgPbkUR",
        "colab_type": "code",
        "colab": {}
      },
      "source": [
        ""
      ],
      "execution_count": null,
      "outputs": []
    },
    {
      "cell_type": "code",
      "metadata": {
        "id": "WEEK-ZP1bkUU",
        "colab_type": "code",
        "colab": {}
      },
      "source": [
        ""
      ],
      "execution_count": null,
      "outputs": []
    },
    {
      "cell_type": "code",
      "metadata": {
        "id": "ntxpo1UtbkUX",
        "colab_type": "code",
        "colab": {}
      },
      "source": [
        ""
      ],
      "execution_count": null,
      "outputs": []
    },
    {
      "cell_type": "markdown",
      "metadata": {
        "id": "amYMtWzibkUa",
        "colab_type": "text"
      },
      "source": [
        "Simple slicing also returns a view:"
      ]
    },
    {
      "cell_type": "code",
      "metadata": {
        "id": "nyr425eVbkUb",
        "colab_type": "code",
        "colab": {}
      },
      "source": [
        ""
      ],
      "execution_count": null,
      "outputs": []
    },
    {
      "cell_type": "code",
      "metadata": {
        "id": "XB2rpSlFbkUd",
        "colab_type": "code",
        "colab": {}
      },
      "source": [
        ""
      ],
      "execution_count": null,
      "outputs": []
    },
    {
      "cell_type": "markdown",
      "metadata": {
        "id": "Wwe52-NzbkUf",
        "colab_type": "text"
      },
      "source": [
        "- A deep copy creates a new ndarray.\n",
        "- Data is NOT shared with the original ndarray.\n",
        "- A deep copy can be forced by using the `copy` method:"
      ]
    },
    {
      "cell_type": "code",
      "metadata": {
        "id": "3MEoetXQbkUg",
        "colab_type": "code",
        "colab": {}
      },
      "source": [
        ""
      ],
      "execution_count": null,
      "outputs": []
    },
    {
      "cell_type": "code",
      "metadata": {
        "id": "OFlWE1H7bkUh",
        "colab_type": "code",
        "colab": {}
      },
      "source": [
        ""
      ],
      "execution_count": null,
      "outputs": []
    },
    {
      "cell_type": "code",
      "metadata": {
        "id": "OuUVoT0ibkUj",
        "colab_type": "code",
        "colab": {}
      },
      "source": [
        ""
      ],
      "execution_count": null,
      "outputs": []
    },
    {
      "cell_type": "code",
      "metadata": {
        "scrolled": true,
        "id": "UzTeBB8EbkUm",
        "colab_type": "code",
        "colab": {}
      },
      "source": [
        ""
      ],
      "execution_count": null,
      "outputs": []
    },
    {
      "cell_type": "code",
      "metadata": {
        "id": "ZQA4Um0RbkUp",
        "colab_type": "code",
        "colab": {}
      },
      "source": [
        ""
      ],
      "execution_count": null,
      "outputs": []
    },
    {
      "cell_type": "markdown",
      "metadata": {
        "id": "r2cfOOn4bkUq",
        "colab_type": "text"
      },
      "source": [
        "- \"Complicated\" indexing returns a deep copy, not a view:"
      ]
    },
    {
      "cell_type": "code",
      "metadata": {
        "id": "YakP40YybkUr",
        "colab_type": "code",
        "colab": {}
      },
      "source": [
        ""
      ],
      "execution_count": null,
      "outputs": []
    },
    {
      "cell_type": "markdown",
      "metadata": {
        "id": "ymSiOZ-IbkUt",
        "colab_type": "text"
      },
      "source": [
        "## Exercise\n",
        "- Some methods of indexing return a view and others return a deep copy. Check the following indexing methods to see which returns what:"
      ]
    },
    {
      "cell_type": "code",
      "metadata": {
        "id": "sVHdGuMTbkUu",
        "colab_type": "code",
        "colab": {}
      },
      "source": [
        "g = a[1:,:]"
      ],
      "execution_count": null,
      "outputs": []
    },
    {
      "cell_type": "code",
      "metadata": {
        "id": "7XDi4rjqbkUx",
        "colab_type": "code",
        "colab": {}
      },
      "source": [
        "g = a[0,[0,1,2,3]]"
      ],
      "execution_count": null,
      "outputs": []
    },
    {
      "cell_type": "code",
      "metadata": {
        "id": "ZrZVeSJ9bkUz",
        "colab_type": "code",
        "colab": {}
      },
      "source": [
        "g = a[0,2]"
      ],
      "execution_count": null,
      "outputs": []
    },
    {
      "cell_type": "markdown",
      "metadata": {
        "id": "F9wu0zPobkU0",
        "colab_type": "text"
      },
      "source": [
        "## Combining arrays"
      ]
    },
    {
      "cell_type": "markdown",
      "metadata": {
        "id": "p5LeVjc2bkU0",
        "colab_type": "text"
      },
      "source": [
        "NumPy has multiple functions that combine a sequence of ndarrays into a single ndarray."
      ]
    },
    {
      "cell_type": "markdown",
      "metadata": {
        "id": "8eBBg7nTbkU1",
        "colab_type": "text"
      },
      "source": [
        "### `np.concatenate`"
      ]
    },
    {
      "cell_type": "markdown",
      "metadata": {
        "id": "A29ZOznrbkU1",
        "colab_type": "text"
      },
      "source": [
        "\n",
        "`np.concatenate` combines ndarrays while maintaining the dimensionality of the original ndarrays\n",
        "- e.g. 2D arrays combine to form a larger 2D array"
      ]
    },
    {
      "cell_type": "code",
      "metadata": {
        "id": "OppeJIzPbkU1",
        "colab_type": "code",
        "colab": {}
      },
      "source": [
        "a = np.random.rand(2,2)\n",
        "b = np.random.rand(2,2)\n"
      ],
      "execution_count": null,
      "outputs": []
    },
    {
      "cell_type": "markdown",
      "metadata": {
        "id": "cr98VYpCbkU3",
        "colab_type": "text"
      },
      "source": [
        "Arrays must have the same size, except in the dimension along which they are being combined.\n",
        "- e.g., two arrays with sizes (3,4,4) and (2,4,4) can be concatenated along the 0-axis, but not the 1-axis or 2-axis."
      ]
    },
    {
      "cell_type": "markdown",
      "metadata": {
        "id": "RF391jhebkU3",
        "colab_type": "text"
      },
      "source": [
        "The axis argument is used to define the axis along which the arrays will be concatenated.\n",
        "- e.g., `axis=0` combines the two arrays as concatenated rows, with a final size of (4,2).\n",
        "- This is the default behavior."
      ]
    },
    {
      "cell_type": "code",
      "metadata": {
        "id": "MsnazPt1bkU4",
        "colab_type": "code",
        "colab": {}
      },
      "source": [
        ""
      ],
      "execution_count": null,
      "outputs": []
    },
    {
      "cell_type": "markdown",
      "metadata": {
        "id": "sSFXXP37bkU6",
        "colab_type": "text"
      },
      "source": [
        "Using `axis=1` combines the arrays as concatenated columns, with a final size of (2,4)."
      ]
    },
    {
      "cell_type": "code",
      "metadata": {
        "scrolled": true,
        "id": "-oAhw_YlbkU6",
        "colab_type": "code",
        "colab": {}
      },
      "source": [
        ""
      ],
      "execution_count": null,
      "outputs": []
    },
    {
      "cell_type": "markdown",
      "metadata": {
        "id": "v5xcLBfCbkU8",
        "colab_type": "text"
      },
      "source": [
        "### `np.vstack` and `np.hstack`"
      ]
    },
    {
      "cell_type": "markdown",
      "metadata": {
        "id": "eG0nJ16dbkU9",
        "colab_type": "text"
      },
      "source": [
        "The `np.vstack` function (\"vertical stack\") is a shortcut for `np.concatenate` with `axis=0`:"
      ]
    },
    {
      "cell_type": "code",
      "metadata": {
        "id": "sI5lqu9UbkU9",
        "colab_type": "code",
        "colab": {}
      },
      "source": [
        ""
      ],
      "execution_count": null,
      "outputs": []
    },
    {
      "cell_type": "markdown",
      "metadata": {
        "id": "B49hGjpebkU-",
        "colab_type": "text"
      },
      "source": [
        "The `np.hstack` function (\"horizontal stack\") is a shortcut for `np.concatenate` with `axis=1`:"
      ]
    },
    {
      "cell_type": "code",
      "metadata": {
        "id": "tFHIlAmDbkU_",
        "colab_type": "code",
        "colab": {}
      },
      "source": [
        ""
      ],
      "execution_count": null,
      "outputs": []
    },
    {
      "cell_type": "markdown",
      "metadata": {
        "id": "o42yjVsIbkVB",
        "colab_type": "text"
      },
      "source": [
        "### `np.stack`"
      ]
    },
    {
      "cell_type": "markdown",
      "metadata": {
        "id": "Ak42S_s1bkVB",
        "colab_type": "text"
      },
      "source": [
        "- The function `np.stack` combines a sequence of arrays while increasing the dimensionality by one.\n",
        "- The arrays being combined must all have the same size."
      ]
    },
    {
      "cell_type": "code",
      "metadata": {
        "id": "fXnoArQSbkVC",
        "colab_type": "code",
        "colab": {}
      },
      "source": [
        ""
      ],
      "execution_count": null,
      "outputs": []
    },
    {
      "cell_type": "markdown",
      "metadata": {
        "id": "cz7WNLSQbkVD",
        "colab_type": "text"
      },
      "source": [
        "### Exercise\n",
        "\n",
        "Combine the following 2D array of x data with the 1D array of y data into a single 10x3 array. (This might be done, for example, if you were going to save the data in a single file.)"
      ]
    },
    {
      "cell_type": "code",
      "metadata": {
        "id": "WmoDqLG4bkVD",
        "colab_type": "code",
        "colab": {}
      },
      "source": [
        "x = np.random.rand(10,2)\n",
        "y = np.random.rand(10,1)"
      ],
      "execution_count": null,
      "outputs": []
    },
    {
      "cell_type": "markdown",
      "metadata": {
        "id": "Oxlqj-ODbkVE",
        "colab_type": "text"
      },
      "source": [
        "## Manipulating array shape"
      ]
    },
    {
      "cell_type": "markdown",
      "metadata": {
        "id": "gzu7LcWUbkVF",
        "colab_type": "text"
      },
      "source": [
        "The dimensions of a ndarray are called it's \"shape.\""
      ]
    },
    {
      "cell_type": "code",
      "metadata": {
        "id": "zdoD-MiWbkVF",
        "colab_type": "code",
        "colab": {}
      },
      "source": [
        "a = np.random.rand(3,2)\n",
        "print(a)"
      ],
      "execution_count": null,
      "outputs": []
    },
    {
      "cell_type": "code",
      "metadata": {
        "id": "e0UGWP-JbkVG",
        "colab_type": "code",
        "colab": {}
      },
      "source": [
        ""
      ],
      "execution_count": null,
      "outputs": []
    },
    {
      "cell_type": "markdown",
      "metadata": {
        "id": "xvPVsQFDbkVJ",
        "colab_type": "text"
      },
      "source": [
        "The ndarray can be flattened into a 1D array (the default is to go row-by-row):"
      ]
    },
    {
      "cell_type": "code",
      "metadata": {
        "id": "h4AG_L7RbkVJ",
        "colab_type": "code",
        "colab": {}
      },
      "source": [
        ""
      ],
      "execution_count": null,
      "outputs": []
    },
    {
      "cell_type": "code",
      "metadata": {
        "id": "s6FKJTjjbkVL",
        "colab_type": "code",
        "colab": {}
      },
      "source": [
        ""
      ],
      "execution_count": null,
      "outputs": []
    },
    {
      "cell_type": "markdown",
      "metadata": {
        "id": "a9IeLgR3bkVO",
        "colab_type": "text"
      },
      "source": [
        "`flatten()` always returns a deep copy, whereas `ravel()` will return a view, if possible."
      ]
    },
    {
      "cell_type": "markdown",
      "metadata": {
        "id": "-wUSBKD9bkVO",
        "colab_type": "text"
      },
      "source": [
        "The dimensions can be modified more generally, as long as the total number of elements remains the same (using -1 tells reshape to figure out what the number should be):"
      ]
    },
    {
      "cell_type": "code",
      "metadata": {
        "id": "KN92HxwXbkVP",
        "colab_type": "code",
        "colab": {}
      },
      "source": [
        ""
      ],
      "execution_count": null,
      "outputs": []
    },
    {
      "cell_type": "code",
      "metadata": {
        "id": "ATbvg2TPbkVQ",
        "colab_type": "code",
        "colab": {}
      },
      "source": [
        ""
      ],
      "execution_count": null,
      "outputs": []
    },
    {
      "cell_type": "code",
      "metadata": {
        "id": "sK42VirubkVR",
        "colab_type": "code",
        "colab": {}
      },
      "source": [
        ""
      ],
      "execution_count": null,
      "outputs": []
    },
    {
      "cell_type": "markdown",
      "metadata": {
        "id": "QDLBLPhJbkVV",
        "colab_type": "text"
      },
      "source": [
        "Note that `reshape` is returning a view. To actually modify the ndarray, use `resize`:"
      ]
    },
    {
      "cell_type": "code",
      "metadata": {
        "id": "PNLpKgHzbkVV",
        "colab_type": "code",
        "colab": {}
      },
      "source": [
        ""
      ],
      "execution_count": null,
      "outputs": []
    },
    {
      "cell_type": "markdown",
      "metadata": {
        "id": "72pKit8UbkVW",
        "colab_type": "text"
      },
      "source": [
        "### Exercise\n",
        "\n",
        "The following array provides [x,y,z] data on a grid (used, for example, for a surface plot). Reshape the array into an Nx3 array (e.g. for output to a file, or for a scatter plot)."
      ]
    },
    {
      "cell_type": "code",
      "metadata": {
        "id": "6PZhvaw8bkVW",
        "colab_type": "code",
        "colab": {}
      },
      "source": [
        "x,y = np.meshgrid([0.,.5,1.],[0.,.5,1.])\n",
        "z = x**2 + y**2\n",
        "data = np.stack((x,y,z)).T"
      ],
      "execution_count": null,
      "outputs": []
    },
    {
      "cell_type": "markdown",
      "metadata": {
        "id": "NydJssGGbkVZ",
        "colab_type": "text"
      },
      "source": [
        "## Arithmetic operators"
      ]
    },
    {
      "cell_type": "markdown",
      "metadata": {
        "id": "BguE6WoybkVZ",
        "colab_type": "text"
      },
      "source": [
        "Basis arithmetic operators act elementwise between two arrays of the same shape:"
      ]
    },
    {
      "cell_type": "code",
      "metadata": {
        "id": "-hON3bMwbkVZ",
        "colab_type": "code",
        "colab": {}
      },
      "source": [
        "a = np.zeros((2,1))\n",
        "b = np.ones((2,1))\n"
      ],
      "execution_count": null,
      "outputs": []
    },
    {
      "cell_type": "code",
      "metadata": {
        "id": "xF-DPRhcbkVc",
        "colab_type": "code",
        "colab": {}
      },
      "source": [
        ""
      ],
      "execution_count": null,
      "outputs": []
    },
    {
      "cell_type": "markdown",
      "metadata": {
        "id": "eLFwlyQNbkVe",
        "colab_type": "text"
      },
      "source": [
        "## Broadcasting\n",
        "- Operations can take place between arrays of different shape in certain conditions.\n",
        "- This is called \"broadcasting\".\n",
        "- Starting from the trailing dimensions, either:\n",
        "    - the two dimensions must be equal, or\n",
        "    - one dimesion must be 1."
      ]
    },
    {
      "cell_type": "code",
      "metadata": {
        "id": "wnNCZEqCbkVe",
        "colab_type": "code",
        "colab": {}
      },
      "source": [
        "a = np.array([[1.,2.],[3.,4.]])\n",
        "b = np.array([[1.],[2.]])\n",
        "print(a,b)\n"
      ],
      "execution_count": null,
      "outputs": []
    },
    {
      "cell_type": "markdown",
      "metadata": {
        "id": "bbD-RTonbkVg",
        "colab_type": "text"
      },
      "source": [
        "Other examples that work:"
      ]
    },
    {
      "cell_type": "code",
      "metadata": {
        "id": "H2aTOiCnbkVg",
        "colab_type": "code",
        "colab": {}
      },
      "source": [
        "a = 5.\n",
        "b = np.ones((2,3))\n"
      ],
      "execution_count": null,
      "outputs": []
    },
    {
      "cell_type": "code",
      "metadata": {
        "id": "3dlT39MVbkVj",
        "colab_type": "code",
        "colab": {}
      },
      "source": [
        "a = np.random.rand(1,3,2,1,5)\n",
        "b = np.random.rand(    2,4,5)\n"
      ],
      "execution_count": null,
      "outputs": []
    },
    {
      "cell_type": "markdown",
      "metadata": {
        "id": "uor7mpT0bkVl",
        "colab_type": "text"
      },
      "source": [
        "Examples that don't work:"
      ]
    },
    {
      "cell_type": "code",
      "metadata": {
        "scrolled": true,
        "id": "_xb5VyOhbkVl",
        "colab_type": "code",
        "colab": {}
      },
      "source": [
        "a = np.ones((2,2))\n",
        "b = np.ones((3,2))\n"
      ],
      "execution_count": null,
      "outputs": []
    },
    {
      "cell_type": "code",
      "metadata": {
        "id": "AedbIRhvbkVn",
        "colab_type": "code",
        "colab": {}
      },
      "source": [
        "a = np.random.rand(1,3,2,2,5)\n",
        "b = np.random.rand(    2,4,5)\n"
      ],
      "execution_count": null,
      "outputs": []
    },
    {
      "cell_type": "markdown",
      "metadata": {
        "id": "Nm6frytSbkVo",
        "colab_type": "text"
      },
      "source": [
        "### Exercise\n",
        "Which of the following pairs of arrays can be broadcast together?"
      ]
    },
    {
      "cell_type": "code",
      "metadata": {
        "id": "myXTXeoMbkVo",
        "colab_type": "code",
        "colab": {}
      },
      "source": [
        "a = np.random.rand(3,4,2,4)\n",
        "b = np.random.rand(      1)"
      ],
      "execution_count": null,
      "outputs": []
    },
    {
      "cell_type": "code",
      "metadata": {
        "id": "ZNxZwQMzbkVq",
        "colab_type": "code",
        "colab": {}
      },
      "source": [
        "a = np.random.rand(3,3,2,1)\n",
        "b = np.random.rand(1,2,1,1)"
      ],
      "execution_count": null,
      "outputs": []
    },
    {
      "cell_type": "code",
      "metadata": {
        "id": "vAtTtpMsbkVr",
        "colab_type": "code",
        "colab": {}
      },
      "source": [
        "a = np.random.rand(3,1,2,1)\n",
        "b = np.random.rand( 2,2,11)"
      ],
      "execution_count": null,
      "outputs": []
    },
    {
      "cell_type": "code",
      "metadata": {
        "id": "aU03poWzbkVs",
        "colab_type": "code",
        "colab": {}
      },
      "source": [
        "a = np.random.rand(  3,4)\n",
        "b = np.random.rand(3,4,2)"
      ],
      "execution_count": null,
      "outputs": []
    },
    {
      "cell_type": "markdown",
      "metadata": {
        "id": "v7VDo8rIbkVt",
        "colab_type": "text"
      },
      "source": [
        "## Linear algebra"
      ]
    },
    {
      "cell_type": "markdown",
      "metadata": {
        "id": "X_Bzc2vAbkVu",
        "colab_type": "text"
      },
      "source": [
        "2D NumPy arrays can be treated as matrices for basic linear algebra operations:"
      ]
    },
    {
      "cell_type": "code",
      "metadata": {
        "id": "HvI1bVsPbkVu",
        "colab_type": "code",
        "colab": {}
      },
      "source": [
        "a = np.array([[1.,2.],[3.,4.]])\n",
        "print(a)"
      ],
      "execution_count": null,
      "outputs": []
    },
    {
      "cell_type": "markdown",
      "metadata": {
        "id": "ErP4OSePbkVv",
        "colab_type": "text"
      },
      "source": [
        "Transpose:"
      ]
    },
    {
      "cell_type": "code",
      "metadata": {
        "id": "v6I36fO5bkVv",
        "colab_type": "code",
        "colab": {}
      },
      "source": [
        ""
      ],
      "execution_count": null,
      "outputs": []
    },
    {
      "cell_type": "code",
      "metadata": {
        "id": "6WZHpA1ObkVx",
        "colab_type": "code",
        "colab": {}
      },
      "source": [
        ""
      ],
      "execution_count": null,
      "outputs": []
    },
    {
      "cell_type": "markdown",
      "metadata": {
        "id": "pba8On9KbkVz",
        "colab_type": "text"
      },
      "source": [
        "Inverse:"
      ]
    },
    {
      "cell_type": "code",
      "metadata": {
        "id": "RlvT05VHbkVz",
        "colab_type": "code",
        "colab": {}
      },
      "source": [
        ""
      ],
      "execution_count": null,
      "outputs": []
    },
    {
      "cell_type": "markdown",
      "metadata": {
        "id": "h1zLwDCybkV0",
        "colab_type": "text"
      },
      "source": [
        "Matrix multiplication:\n",
        "- Remember the * operator for elementwise multiplication\n",
        "- The @ operator does matrix multiplication in Python 3"
      ]
    },
    {
      "cell_type": "code",
      "metadata": {
        "id": "mdsE_AJUbkV0",
        "colab_type": "code",
        "colab": {}
      },
      "source": [
        ""
      ],
      "execution_count": null,
      "outputs": []
    },
    {
      "cell_type": "code",
      "metadata": {
        "id": "zqHkhIhzbkV2",
        "colab_type": "code",
        "colab": {}
      },
      "source": [
        ""
      ],
      "execution_count": null,
      "outputs": []
    },
    {
      "cell_type": "markdown",
      "metadata": {
        "id": "GVgnK3btbkV4",
        "colab_type": "text"
      },
      "source": [
        "Matrix/vector solve:"
      ]
    },
    {
      "cell_type": "code",
      "metadata": {
        "id": "2wp_OaBRbkV5",
        "colab_type": "code",
        "colab": {}
      },
      "source": [
        "b = np.array([[3],[7]])\n"
      ],
      "execution_count": null,
      "outputs": []
    },
    {
      "cell_type": "markdown",
      "metadata": {
        "id": "5hgWh1GXbkV8",
        "colab_type": "text"
      },
      "source": [
        "Eigenvalues/eigenvectors (returns a tuple containg a vector of the eigenvalues and a matrix whose columns are the eigenvectors):"
      ]
    },
    {
      "cell_type": "code",
      "metadata": {
        "id": "gMU70_DpbkV8",
        "colab_type": "code",
        "colab": {}
      },
      "source": [
        ""
      ],
      "execution_count": null,
      "outputs": []
    },
    {
      "cell_type": "markdown",
      "metadata": {
        "id": "j2KfbixfbkV9",
        "colab_type": "text"
      },
      "source": [
        "Identity matrix:"
      ]
    },
    {
      "cell_type": "code",
      "metadata": {
        "id": "dVn0cxzGbkV-",
        "colab_type": "code",
        "colab": {}
      },
      "source": [
        ""
      ],
      "execution_count": null,
      "outputs": []
    },
    {
      "cell_type": "markdown",
      "metadata": {
        "id": "3m2eMUkEbkV_",
        "colab_type": "text"
      },
      "source": [
        "### Exercise\n",
        "\n",
        "Verify that `np.linalg.solve` is giving correct results. I.e. given $x = A^{-1}b$, verify that $Ax = b$."
      ]
    },
    {
      "cell_type": "code",
      "metadata": {
        "id": "ATqm5cYnbkV_",
        "colab_type": "code",
        "colab": {}
      },
      "source": [
        "A = np.array([[2.,6.],[0.,1.]])\n",
        "b = np.array([[1.],[0.]])"
      ],
      "execution_count": null,
      "outputs": []
    },
    {
      "cell_type": "markdown",
      "metadata": {
        "id": "T808eCA8bkWA",
        "colab_type": "text"
      },
      "source": [
        "Verify that `np.linalg.eig` is giving correct results. I.e. using the eigenvalues $\\lambda_i$ and eigenvectors $\\boldsymbol{\\xi}_i$ from the matrix $A$, verify that $A\\boldsymbol{\\xi}_i = \\lambda_i\\boldsymbol{\\xi}_i$."
      ]
    },
    {
      "cell_type": "code",
      "metadata": {
        "id": "exP9OaHmbkWB",
        "colab_type": "code",
        "colab": {}
      },
      "source": [
        "A = np.array([[2.,6.],[0.,1.]])\n",
        "val, vec = np.linalg.eig(A)\n",
        "print(val,vec)"
      ],
      "execution_count": null,
      "outputs": []
    },
    {
      "cell_type": "markdown",
      "metadata": {
        "id": "p4dei0r4bkWD",
        "colab_type": "text"
      },
      "source": [
        "## Random sampling"
      ]
    },
    {
      "cell_type": "markdown",
      "metadata": {
        "id": "XPY7CGxzbkWD",
        "colab_type": "text"
      },
      "source": [
        "NumPy has several functions for random sampling."
      ]
    },
    {
      "cell_type": "markdown",
      "metadata": {
        "id": "Qv8DNxfvbkWD",
        "colab_type": "text"
      },
      "source": [
        "Uniformly sampled from $[0,1)$ for a given shape:"
      ]
    },
    {
      "cell_type": "code",
      "metadata": {
        "id": "-kKlAWtibkWD",
        "colab_type": "code",
        "colab": {}
      },
      "source": [
        ""
      ],
      "execution_count": null,
      "outputs": []
    },
    {
      "cell_type": "markdown",
      "metadata": {
        "id": "5bBOPhebbkWG",
        "colab_type": "text"
      },
      "source": [
        "Random sample from standard normal distribution (0 mean, 1 std. dev.):"
      ]
    },
    {
      "cell_type": "code",
      "metadata": {
        "id": "8f0N149ebkWG",
        "colab_type": "code",
        "colab": {}
      },
      "source": [
        ""
      ],
      "execution_count": null,
      "outputs": []
    },
    {
      "cell_type": "markdown",
      "metadata": {
        "id": "K5JegbGebkWI",
        "colab_type": "text"
      },
      "source": [
        "Random integers, specifying lower (inclusive) and upper (exclusive) bounds:"
      ]
    },
    {
      "cell_type": "code",
      "metadata": {
        "id": "2mLsDgbabkWI",
        "colab_type": "code",
        "colab": {}
      },
      "source": [
        ""
      ],
      "execution_count": null,
      "outputs": []
    },
    {
      "cell_type": "markdown",
      "metadata": {
        "id": "DUgNJQENbkWK",
        "colab_type": "text"
      },
      "source": [
        "Shuffle contents of array:\n",
        "- Only along first axis - e.g. shuffling a matrix maintains rows\n",
        "- `shuffle` modifies the original array\n",
        "- `permutation` returns a new, shuffled array"
      ]
    },
    {
      "cell_type": "code",
      "metadata": {
        "id": "jLACW1W1bkWK",
        "colab_type": "code",
        "colab": {}
      },
      "source": [
        "a = np.arange(0,12).reshape(3,-1)\n"
      ],
      "execution_count": null,
      "outputs": []
    },
    {
      "cell_type": "code",
      "metadata": {
        "id": "y8ogQE1RbkWL",
        "colab_type": "code",
        "colab": {}
      },
      "source": [
        "b = np.array([[1.,2.],[3.,4.],[5.,6.]])\n"
      ],
      "execution_count": null,
      "outputs": []
    },
    {
      "cell_type": "markdown",
      "metadata": {
        "id": "cz-19ALPbkWM",
        "colab_type": "text"
      },
      "source": [
        "### Exercise\n",
        "\n",
        "Draw four random numbers (*with no repeats*) from the set of integers 1 through 10."
      ]
    },
    {
      "cell_type": "code",
      "metadata": {
        "id": "XkCIFS98bkWN",
        "colab_type": "code",
        "colab": {}
      },
      "source": [
        ""
      ],
      "execution_count": null,
      "outputs": []
    },
    {
      "cell_type": "markdown",
      "metadata": {
        "id": "Ca3zPNB0bkWP",
        "colab_type": "text"
      },
      "source": [
        "## Other useful functions and methods"
      ]
    },
    {
      "cell_type": "markdown",
      "metadata": {
        "id": "gCnXXMa3bkWP",
        "colab_type": "text"
      },
      "source": [
        "### Sorting"
      ]
    },
    {
      "cell_type": "markdown",
      "metadata": {
        "id": "se-xBif6bkWP",
        "colab_type": "text"
      },
      "source": [
        "NumPy's `sort` function will sort elements, from low to high:\n",
        "- Note that rows, columns, etc. are not maintained \n",
        "- The axis can be specifed (the default is to sort along the last axis)"
      ]
    },
    {
      "cell_type": "code",
      "metadata": {
        "id": "0zZtajPPbkWP",
        "colab_type": "code",
        "colab": {}
      },
      "source": [
        "a = np.array([[1.,5.],[3.,1.],[2,0.]])\n",
        "print(a)"
      ],
      "execution_count": null,
      "outputs": []
    },
    {
      "cell_type": "code",
      "metadata": {
        "id": "wwLsJxY5bkWU",
        "colab_type": "code",
        "colab": {}
      },
      "source": [
        ""
      ],
      "execution_count": null,
      "outputs": []
    },
    {
      "cell_type": "code",
      "metadata": {
        "id": "TveuuPp9bkWW",
        "colab_type": "code",
        "colab": {}
      },
      "source": [
        ""
      ],
      "execution_count": null,
      "outputs": []
    },
    {
      "cell_type": "markdown",
      "metadata": {
        "id": "0z-oGDDgbkWZ",
        "colab_type": "text"
      },
      "source": [
        "This is also available as a method that modifies the array:"
      ]
    },
    {
      "cell_type": "code",
      "metadata": {
        "id": "o7X3htyGbkWZ",
        "colab_type": "code",
        "colab": {}
      },
      "source": [
        ""
      ],
      "execution_count": null,
      "outputs": []
    },
    {
      "cell_type": "markdown",
      "metadata": {
        "id": "dFvyhutUbkWa",
        "colab_type": "text"
      },
      "source": [
        "The indices of the sorted elements are given using `argsort`:\n",
        "- This is useful if you want to, for example, sort an array by the first column and maintain rows"
      ]
    },
    {
      "cell_type": "code",
      "metadata": {
        "id": "nIvCSyiobkWb",
        "colab_type": "code",
        "colab": {}
      },
      "source": [
        ""
      ],
      "execution_count": null,
      "outputs": []
    },
    {
      "cell_type": "markdown",
      "metadata": {
        "id": "O7ZyTX3DbkWc",
        "colab_type": "text"
      },
      "source": [
        "### Exercise"
      ]
    },
    {
      "cell_type": "markdown",
      "metadata": {
        "id": "0LUCB0gYbkWc",
        "colab_type": "text"
      },
      "source": [
        "Use `argsort` to sort the following matrix by the first column, while keeping the contents of each row unchanged:"
      ]
    },
    {
      "cell_type": "code",
      "metadata": {
        "id": "mxYZJH3CbkWc",
        "colab_type": "code",
        "colab": {}
      },
      "source": [
        "a = np.array([[3.,1.],[0.,4.],[1.,8.]])\n",
        "print(a)"
      ],
      "execution_count": null,
      "outputs": []
    },
    {
      "cell_type": "markdown",
      "metadata": {
        "id": "CwhWj0wFbkWd",
        "colab_type": "text"
      },
      "source": [
        "The correct answer should give:"
      ]
    },
    {
      "cell_type": "code",
      "metadata": {
        "id": "Pi5_PBO_bkWd",
        "colab_type": "code",
        "colab": {}
      },
      "source": [
        "a = np.array([[0.,4.],[1.,8.],[3.,1.]])\n",
        "print(a)"
      ],
      "execution_count": null,
      "outputs": []
    },
    {
      "cell_type": "markdown",
      "metadata": {
        "id": "Av1eWi6gbkWf",
        "colab_type": "text"
      },
      "source": [
        "### Reduction/summarization functions"
      ]
    },
    {
      "cell_type": "markdown",
      "metadata": {
        "id": "vgnwJfG1bkWf",
        "colab_type": "text"
      },
      "source": [
        "NumPy has several functions that \"reduce\" an array to a single value or smaller set of values, such as `min`, `max`, `sum`, and `prod`:"
      ]
    },
    {
      "cell_type": "code",
      "metadata": {
        "id": "OZspazKhbkWf",
        "colab_type": "code",
        "colab": {}
      },
      "source": [
        "a = np.random.randint(2,11,5)\n",
        "print(a)"
      ],
      "execution_count": null,
      "outputs": []
    },
    {
      "cell_type": "code",
      "metadata": {
        "id": "ZjkkPmZsbkWg",
        "colab_type": "code",
        "colab": {}
      },
      "source": [
        ""
      ],
      "execution_count": null,
      "outputs": []
    },
    {
      "cell_type": "code",
      "metadata": {
        "id": "zQS1apFnbkWh",
        "colab_type": "code",
        "colab": {}
      },
      "source": [
        ""
      ],
      "execution_count": null,
      "outputs": []
    },
    {
      "cell_type": "code",
      "metadata": {
        "id": "7F6QVYFVbkWj",
        "colab_type": "code",
        "colab": {}
      },
      "source": [
        ""
      ],
      "execution_count": null,
      "outputs": []
    },
    {
      "cell_type": "code",
      "metadata": {
        "id": "KUof5z9WbkWk",
        "colab_type": "code",
        "colab": {}
      },
      "source": [
        ""
      ],
      "execution_count": null,
      "outputs": []
    },
    {
      "cell_type": "markdown",
      "metadata": {
        "id": "ztMQk5BFbkWl",
        "colab_type": "text"
      },
      "source": [
        "### Exercise\n",
        "\n",
        "Compute the average of `a` (without using `np.average` or `np.mean`)."
      ]
    },
    {
      "cell_type": "code",
      "metadata": {
        "id": "cNBYkhwFbkWm",
        "colab_type": "code",
        "colab": {}
      },
      "source": [
        ""
      ],
      "execution_count": null,
      "outputs": []
    },
    {
      "cell_type": "markdown",
      "metadata": {
        "id": "v9cdTDuybkWn",
        "colab_type": "text"
      },
      "source": [
        "### \"Universal\" functions"
      ]
    },
    {
      "cell_type": "markdown",
      "metadata": {
        "id": "AFKGKAlpbkWn",
        "colab_type": "text"
      },
      "source": [
        "NumPy has several standard mathematical functions that apply elementwise to ndarrays, e.g:"
      ]
    },
    {
      "cell_type": "code",
      "metadata": {
        "id": "MXiYATMnbkWn",
        "colab_type": "code",
        "colab": {}
      },
      "source": [
        "a = np.random.rand(2,2)"
      ],
      "execution_count": null,
      "outputs": []
    },
    {
      "cell_type": "code",
      "metadata": {
        "id": "qbaUUm5XbkWp",
        "colab_type": "code",
        "colab": {}
      },
      "source": [
        ""
      ],
      "execution_count": null,
      "outputs": []
    },
    {
      "cell_type": "code",
      "metadata": {
        "id": "wkdvSA7tbkWq",
        "colab_type": "code",
        "colab": {}
      },
      "source": [
        ""
      ],
      "execution_count": null,
      "outputs": []
    },
    {
      "cell_type": "code",
      "metadata": {
        "id": "aXzS-owYbkWt",
        "colab_type": "code",
        "colab": {}
      },
      "source": [
        ""
      ],
      "execution_count": null,
      "outputs": []
    },
    {
      "cell_type": "code",
      "metadata": {
        "id": "Xjaou3qqbkWu",
        "colab_type": "code",
        "colab": {}
      },
      "source": [
        ""
      ],
      "execution_count": null,
      "outputs": []
    }
  ]
}